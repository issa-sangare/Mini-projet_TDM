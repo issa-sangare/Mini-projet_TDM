{
 "cells": [
  {
   "cell_type": "code",
   "execution_count": null,
   "id": "cae718b3",
   "metadata": {},
   "outputs": [],
   "source": [
    "import numpy as np\n",
    "from PIL import Image\n",
    "\n",
    "def sous_echantillonnage_422(image):\n",
    "    image_array = np.array(image)\n",
    "    \n",
    "    # Filtrage des canaux de chrominance\n",
    "    crf = image_array[:,:,1]\n",
    "    cbf = image_array[:,:,2]\n",
    "    \n",
    "    # Sous-échantillonnage des canaux de chrominance\n",
    "    crsub = crf[:, ::2]\n",
    "    cbsub = cbf[:, ::2]\n",
    "    \n",
    "    # Ajustement des dimensions des canaux de chrominance\n",
    "    crsub = np.resize(crsub, (image_array.shape[0], image_array.shape[1]//2))\n",
    "    cbsub = np.resize(cbsub, (image_array.shape[0], image_array.shape[1]//2))\n",
    "    \n",
    "    # Ajustement des dimensions de la composante de luminance\n",
    "    y = image_array[:,:,0]\n",
    "    y = np.resize(y, (image_array.shape[0], image_array.shape[1]//2))\n",
    "    \n",
    "    # Création de l'image sous-échantillonnée\n",
    "    image_sous_echantillonnee = np.stack((y, crsub, cbsub), axis=-1)\n",
    "    \n",
    "    return image_sous_echantillonnee"
   ]
  },
  {
   "cell_type": "code",
   "execution_count": null,
   "id": "7fa92629",
   "metadata": {},
   "outputs": [],
   "source": [
    "ress422=sous_echantillonnage_422(blocs3[0])\n",
    "print(ress422)"
   ]
  },
  {
   "cell_type": "code",
   "execution_count": null,
   "id": "7bf29293",
   "metadata": {},
   "outputs": [],
   "source": [
    "def restaurer_image_422(image_sous_echantillonnee):\n",
    "    # Convertir l'image sous-échantillonnée en tableau NumPy\n",
    "    image_array = np.array(image_sous_echantillonnee)\n",
    "    \n",
    "    # Extraction des composantes de l'image\n",
    "    y = image_array[:,:,0]\n",
    "    crsub = image_array[:,:,1]\n",
    "    cbsub = image_array[:,:,2]\n",
    "    \n",
    "    # Restauration des canaux de chrominance\n",
    "    crf = np.repeat(crsub, 2, axis=1)\n",
    "    cbf = np.repeat(cbsub, 2, axis=1)\n",
    "    \n",
    "    # Ajustement des dimensions de la composante de luminance\n",
    "    y = np.repeat(y, 2, axis=1)\n",
    "    \n",
    "    # Création de l'image restaurée\n",
    "    image_restaurée = np.stack((y, crf, cbf), axis=-1)\n",
    "    \n",
    "    return image_restaurée"
   ]
  },
  {
   "cell_type": "code",
   "execution_count": null,
   "id": "660b1f1f",
   "metadata": {},
   "outputs": [],
   "source": [
    "inverse422=restaurer_image_422(ress422)\n",
    "print(inverse422)"
   ]
  },
  {
   "cell_type": "code",
   "execution_count": null,
   "id": "a1744511",
   "metadata": {},
   "outputs": [],
   "source": [
    "def sous_echantillonnage_444(image):\n",
    "    # Convertir l'image en tableau NumPy\n",
    "    image_array = np.array(image)\n",
    "    \n",
    "    # Extraction des composantes de l'image\n",
    "    y = image_array[:,:,0]\n",
    "    cr = image_array[:,:,1]\n",
    "    cb = image_array[:,:,2]\n",
    "    \n",
    "    # Création de l'image sous-échantillonnée\n",
    "    image_sous_echantillonnee = np.stack((y, cr, cb), axis=-1)\n",
    "    \n",
    "    return image_sous_echantillonnee"
   ]
  },
  {
   "cell_type": "code",
   "execution_count": null,
   "id": "0d77a1c2",
   "metadata": {},
   "outputs": [],
   "source": [
    "ress444=sous_echantillonnage_444(blocs3[0])\n",
    "print(ress444)"
   ]
  },
  {
   "cell_type": "code",
   "execution_count": null,
   "id": "b1e5288b",
   "metadata": {},
   "outputs": [],
   "source": [
    "def restaurer_image_444(image_sous_echantillonnee):\n",
    "    # Convertir l'image sous-échantillonnée en tableau NumPy\n",
    "    image_array = np.array(image_sous_echantillonnee)\n",
    "    \n",
    "    # Extraction des composantes de l'image\n",
    "    y = image_array[:,:,0]\n",
    "    cr = image_array[:,:,1]\n",
    "    cb = image_array[:,:,2]\n",
    "    \n",
    "    # Création de l'image restaurée\n",
    "    image_restaurée = np.stack((y, cr, cb), axis=-1)\n",
    "    \n",
    "    return image_restaurée\n"
   ]
  },
  {
   "cell_type": "code",
   "execution_count": null,
   "id": "38ffe41a",
   "metadata": {},
   "outputs": [],
   "source": [
    "inverse444=restaurer_image_444(ress444)\n",
    "print(inverse444)"
   ]
  },
  {
   "cell_type": "code",
   "execution_count": null,
   "id": "e1e3a682",
   "metadata": {},
   "outputs": [],
   "source": []
  }
 ],
 "metadata": {
  "kernelspec": {
   "display_name": "Python 3 (ipykernel)",
   "language": "python",
   "name": "python3"
  },
  "language_info": {
   "codemirror_mode": {
    "name": "ipython",
    "version": 3
   },
   "file_extension": ".py",
   "mimetype": "text/x-python",
   "name": "python",
   "nbconvert_exporter": "python",
   "pygments_lexer": "ipython3",
   "version": "3.11.4"
  }
 },
 "nbformat": 4,
 "nbformat_minor": 5
}

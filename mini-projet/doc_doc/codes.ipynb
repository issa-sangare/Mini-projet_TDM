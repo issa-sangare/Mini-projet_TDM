{
 "cells": [
  {
   "cell_type": "code",
   "execution_count": null,
   "metadata": {},
   "outputs": [],
   "source": [
    "import numpy as np"
   ]
  },
  {
   "cell_type": "markdown",
   "metadata": {},
   "source": [
    "# Conversion Binaire"
   ]
  },
  {
   "cell_type": "code",
   "execution_count": null,
   "metadata": {},
   "outputs": [],
   "source": [
    "def dataToBinaryArray(data,nbit) :\n",
    "    if isinstance(data,str) :\n",
    "        binaire_separee = np.array([format(ord(car),\"0\"+str(nbit)+\"b\") for car in data])\n",
    "    else :\n",
    "        binaire_separee = np.array([format(car,\"0\"+str(nbit)+\"b\") for car in data])\n",
    "    binaire = np.array([int(num) for i in range(len(binaire_separee)) for num in binaire_separee[i]])\n",
    "    return binaire,nbit"
   ]
  },
  {
   "cell_type": "code",
   "execution_count": null,
   "metadata": {},
   "outputs": [],
   "source": [
    "def binaryArrayToDataInteger(binary_array,nbit) :\n",
    "    arr = np.array_split(binary_array,len(binary_array)//nbit)\n",
    "    return [int(\"\".join(map(str,arr[i])),2) for i in range(len(arr))]"
   ]
  },
  {
   "cell_type": "code",
   "execution_count": null,
   "metadata": {},
   "outputs": [],
   "source": [
    "def binaryArrayToDataString(binary_array,nbit) :\n",
    "    arr = np.array_split(binary_array,len(binary_array)//nbit)\n",
    "    return \"\".join([chr(int(\"\".join(map(str,arr[i])),2)) for i in range(len(arr))])"
   ]
  },
  {
   "cell_type": "markdown",
   "metadata": {},
   "source": [
    "# Type de Lecture"
   ]
  },
  {
   "cell_type": "code",
   "execution_count": null,
   "metadata": {},
   "outputs": [],
   "source": [
    "def lectureLigne(arr) :\n",
    "    return (arr.reshape(-1),arr.shape)"
   ]
  },
  {
   "cell_type": "code",
   "execution_count": null,
   "metadata": {},
   "outputs": [],
   "source": [
    "def dlectureLigne(vecteur,dim) :\n",
    "    return np.array(np.split(vecteur,len(vecteur) // dim[1]))\n"
   ]
  },
  {
   "cell_type": "code",
   "execution_count": null,
   "metadata": {},
   "outputs": [],
   "source": [
    "def lectureColonne(arr) :\n",
    "    return (np.hstack(np.column_stack(arr)),arr.shape)\n"
   ]
  },
  {
   "cell_type": "code",
   "execution_count": null,
   "metadata": {},
   "outputs": [],
   "source": [
    "def dlectureColonne(vecteur,dim) :\n",
    "    return np.transpose(np.vstack(np.split(vecteur,len(vecteur) // dim[0])))"
   ]
  },
  {
   "cell_type": "code",
   "execution_count": null,
   "metadata": {},
   "outputs": [],
   "source": [
    "def lectureZigzag(arr) :\n",
    "    arr_flip = np.fliplr(arr)\n",
    "    if arr.shape[1] % 2 == 0 :\n",
    "        zig = np.hstack([np.diag(arr_flip,k=i) if i % 2 == 0 else np.flip(np.diag(arr_flip,k=i)) for i in range(arr.shape[1] - 1, -arr.shape[0], -1)])\n",
    "    elif arr.shape[1] % 2 != 0 :\n",
    "        zig = np.hstack([np.diag(arr_flip,k=i) if i % 2 != 0 else np.flip(np.diag(arr_flip,k=i)) for i in range(arr.shape[1] - 1, -arr.shape[0], -1)])\n",
    "    return (zig,arr.shape)"
   ]
  },
  {
   "cell_type": "code",
   "execution_count": null,
   "metadata": {},
   "outputs": [],
   "source": [
    "def dlectureZigzag(zigzag,dim) :\n",
    "    arr = np.zeros(dim,dtype=np.uint8)\n",
    "    indices = np.cumsum([len(np.diag(arr,i)) for i in range(arr.shape[1]-1,-arr.shape[0],-1) ])\n",
    "    zigzag_split = np.split(zigzag,indices)[:-1]\n",
    "    zigzag_split = [zigzag_split[i] if i % 2 != 0 else np.flip(zigzag_split[i]) for i in range(len(zigzag_split))]\n",
    "    for j in range(arr.shape[1]) :\n",
    "        i = 0\n",
    "        tab = zigzag_split[j]\n",
    "        while i < arr.shape[0] and j > - 1 :\n",
    "            arr[i,j] = tab[i]\n",
    "            i += 1\n",
    "            j -= 1\n",
    "    for i in range(1,arr.shape[0]) :\n",
    "        j = arr.shape[1] - 1\n",
    "        tab = zigzag_split[j+i]\n",
    "        k = 0\n",
    "        while i < arr.shape[0] and j > - 1 and k < len(tab) :\n",
    "            arr[i,j] = tab[k]\n",
    "            i += 1\n",
    "            j -= 1\n",
    "            k += 1\n",
    "    return arr"
   ]
  },
  {
   "cell_type": "markdown",
   "metadata": {},
   "source": [
    "# RLE"
   ]
  },
  {
   "cell_type": "code",
   "execution_count": null,
   "metadata": {},
   "outputs": [],
   "source": [
    "def rlec(sequence) :\n",
    "    val = sequence[0]\n",
    "    codage = [] + [0] if val==0 else [] \n",
    "    l = 0\n",
    "    for bit in sequence :\n",
    "        l += 1\n",
    "        if bit != val :\n",
    "            codage.append(l-1)\n",
    "            val = bit\n",
    "            l = 1\n",
    "        if l > 255 :\n",
    "            l -= 1\n",
    "            codage.append(l)\n",
    "            codage.append(0)\n",
    "            l -= 254\n",
    "    if l != 0 : \n",
    "        codage.append(l)\n",
    "    return codage"
   ]
  },
  {
   "cell_type": "code",
   "execution_count": null,
   "metadata": {},
   "outputs": [],
   "source": [
    "def rled(sequence) :\n",
    "    val = False if sequence[0]==0 else True\n",
    "    sequence = sequence[1:] if val==False else sequence\n",
    "    data = []\n",
    "    for i in range(len(sequence)) :\n",
    "        data.extend(np.repeat(int(val),sequence[i]))\n",
    "        val = not val\n",
    "    return data"
   ]
  },
  {
   "cell_type": "markdown",
   "metadata": {},
   "source": [
    "# HUFFMAN"
   ]
  },
  {
   "cell_type": "code",
   "execution_count": null,
   "metadata": {},
   "outputs": [],
   "source": [
    "def symbole_frequence(data) :\n",
    "    tab = list(data)\n",
    "    dictt = {elem if isinstance(elem,str) else chr(elem) : tab.count(elem) for elem in set(tab)}\n",
    "    return dict(sorted(dictt.items(),key=lambda item : item[1]))"
   ]
  },
  {
   "cell_type": "code",
   "execution_count": null,
   "metadata": {},
   "outputs": [],
   "source": [
    "def huffmanC(dictio) :\n",
    "    liste_symb = list(dictio.items())\n",
    "    codage_dict = {car :\"\" for car,freq in liste_symb}\n",
    "    while len(liste_symb) > 1 :\n",
    "        min1 = min(liste_symb,key=lambda item:item[1])\n",
    "        liste_symb.pop(liste_symb.index(min1))\n",
    "        min2 = min(liste_symb,key=lambda item:item[1])\n",
    "        liste_symb.pop(liste_symb.index(min2))\n",
    "        for car in min1[0] :\n",
    "            codage_dict[car] += \"0\" \n",
    "        for car in min2[0] :\n",
    "            codage_dict[car] += \"1\"\n",
    "        elem = [min1[0]+min2[0],min1[1]+min2[1]]\n",
    "        liste_symb.append(elem)\n",
    "    return {car  : code[::-1] for car,code in list(codage_dict.items())}"
   ]
  },
  {
   "cell_type": "code",
   "execution_count": null,
   "metadata": {},
   "outputs": [],
   "source": [
    "def sequenceBinaireHuffmanCodage(data) :\n",
    "    dictt = symbole_frequence(data)\n",
    "    dict_code = huffmanC(dictt)\n",
    "    return [dict_code[car] if isinstance(car,str) else dict_code[chr(car)] for car in data]"
   ]
  },
  {
   "cell_type": "markdown",
   "metadata": {},
   "source": [
    "# LZ78"
   ]
  },
  {
   "cell_type": "code",
   "execution_count": null,
   "metadata": {},
   "outputs": [],
   "source": [
    "def lz78c(sequence) :\n",
    "    sequence = list(sequence)\n",
    "    dictt = {\"\":0}\n",
    "    etiquette = []\n",
    "    courant = \"\"\n",
    "    for car in sequence :\n",
    "        courant += car\n",
    "        if courant not in dictt.keys() :\n",
    "            dictt[courant] = len(dictt.keys())\n",
    "            etiquette.append((dictt[courant[:-1]],car))\n",
    "            courant = \"\"\n",
    "    if courant != \"\" :                  \n",
    "        etiquette.append((dictt[courant],\"\"))\n",
    "    return etiquette\n"
   ]
  },
  {
   "cell_type": "code",
   "execution_count": null,
   "metadata": {},
   "outputs": [],
   "source": [
    "def lz78d(etiquette) :\n",
    "    dictt = {0:\"\"}\n",
    "    for etq in etiquette :\n",
    "        dictt[len(dictt)] = dictt[etq[0]] + etq[1]\n",
    "    dictt.pop(0)\n",
    "    return dictt.values()\n",
    "\n",
    "lz78d(lz78c(map(str,[1,2,3,4,5])))"
   ]
  },
  {
   "cell_type": "markdown",
   "metadata": {},
   "source": [
    "# LZW"
   ]
  },
  {
   "cell_type": "code",
   "execution_count": null,
   "metadata": {},
   "outputs": [],
   "source": [
    "def lzwc(sequence,dict_codage) :\n",
    "    courant = sequence[0] \n",
    "    codage = []\n",
    "    for i in range(1,len(sequence)) :\n",
    "        suivant = sequence[i]\n",
    "        if courant + suivant in dict_codage :\n",
    "            courant += suivant\n",
    "        else :\n",
    "            dict_codage[courant+suivant] = len(dict_codage) \n",
    "            codage.append(dict_codage[courant])\n",
    "            courant = suivant\n",
    "    codage.append(dict_codage[courant])\n",
    "    return codage\n"
   ]
  },
  {
   "cell_type": "code",
   "execution_count": null,
   "metadata": {},
   "outputs": [],
   "source": [
    "def lzwd(codage,dict_codage) :\n",
    "    dict_codage = {v: k for k, v in dict_codage.items()}\n",
    "    anc = dict_codage[codage[0]]\n",
    "    decodage = [] + [anc]\n",
    "    for i in range(1,len(codage)) :\n",
    "        nv = codage[i]\n",
    "        dict_codage[len(dict_codage)] = anc + dict_codage[nv][0] if nv in dict_codage else anc + anc\n",
    "        decodage.append(dict_codage[nv])\n",
    "        anc = dict_codage[nv]\n",
    "    return decodage"
   ]
  },
  {
   "cell_type": "markdown",
   "metadata": {},
   "source": [
    "# Codage en ligne"
   ]
  },
  {
   "cell_type": "markdown",
   "metadata": {},
   "source": [
    "## RZ"
   ]
  },
  {
   "cell_type": "code",
   "execution_count": null,
   "metadata": {},
   "outputs": [],
   "source": [
    "def RZUni(sequence,maxV) :\n",
    "    new_sequence = np.array(sequence).reshape(-1,1)\n",
    "    signal = np.where(new_sequence==[1],[maxV,0],[0])\n",
    "    return signal"
   ]
  },
  {
   "cell_type": "code",
   "execution_count": null,
   "metadata": {},
   "outputs": [],
   "source": [
    "def RZBi(sequence,maxV=5,minV=-5) :\n",
    "    new_sequence = np.array(sequence).reshape(-1,1)\n",
    "    signal = np.where(new_sequence==[1],[maxV,0],[minV,0])\n",
    "    return signal"
   ]
  },
  {
   "cell_type": "code",
   "execution_count": null,
   "metadata": {},
   "outputs": [],
   "source": [
    "def RZDecodage(signal) :\n",
    "    arr = np.column_stack(np.where(signal==[5,0],1,0))[0]\n",
    "    return arr"
   ]
  },
  {
   "cell_type": "markdown",
   "metadata": {},
   "source": [
    "## NRZ NRZI"
   ]
  },
  {
   "cell_type": "code",
   "execution_count": null,
   "metadata": {},
   "outputs": [],
   "source": [
    "def NRZ(sequence,maxV,minV) :\n",
    "    new_sequence = np.array(sequence).reshape(-1,1)\n",
    "    signal = np.where(new_sequence==1,[maxV,maxV],[minV,minV])\n",
    "    return signal\n",
    "   "
   ]
  },
  {
   "cell_type": "code",
   "execution_count": null,
   "metadata": {},
   "outputs": [],
   "source": [
    "def NRZI(sequence,maxV,minV):\n",
    "    code = []\n",
    "    code.append([maxV,maxV] if sequence[0]==1 else [minV,minV])\n",
    "    for i in range(1,len(sequence)) :\n",
    "        code.append(code[i-1] if sequence[i]==1 else [-code[i-1][0],-code[i-1][1]])\n",
    "    return code"
   ]
  },
  {
   "cell_type": "markdown",
   "metadata": {},
   "source": [
    "# MANCHESTER MANCHESTER DIFF"
   ]
  },
  {
   "cell_type": "code",
   "execution_count": null,
   "metadata": {},
   "outputs": [],
   "source": [
    "def manchester(sequence ,maxV,minV) :\n",
    "    new_sequence = np.array(sequence).reshape(-1,1)\n",
    "    signal = np.where(new_sequence==1,[maxV,minV],[minV,maxV])\n",
    "    return signal"
   ]
  },
  {
   "cell_type": "code",
   "execution_count": null,
   "metadata": {},
   "outputs": [],
   "source": [
    "def manchesterDiff(sequence,maxV,minV):\n",
    "    code = []\n",
    "    code.append([maxV,-maxV] if sequence[0]==1 else [-minV,minV])\n",
    "    for i in range(1,len(sequence)) :\n",
    "        code.append([code[i-1][1],code[i-1][0]] if sequence[i]==1 else code[i-1])\n",
    "    return code"
   ]
  },
  {
   "cell_type": "code",
   "execution_count": null,
   "metadata": {},
   "outputs": [],
   "source": [
    "def manchesterDecodage(signal,maxV,minV):\n",
    "    seq = np.where(signal==[5,-5],1,0)[:,0]\n",
    "    return seq"
   ]
  },
  {
   "cell_type": "code",
   "execution_count": null,
   "metadata": {},
   "outputs": [],
   "source": [
    "def manchesterDiffDecodage(signal):\n",
    "    seq = [] + [1] if signal[0]==[5,-5] else [] + [0]\n",
    "    for i in range(1,len(signal)) :\n",
    "        seq.append(1 if signal[i]!=signal[i-1] else 0)\n",
    "    return seq"
   ]
  },
  {
   "cell_type": "markdown",
   "metadata": {},
   "source": [
    "## MILLER"
   ]
  },
  {
   "cell_type": "code",
   "execution_count": null,
   "metadata": {},
   "outputs": [],
   "source": [
    "def miller(sequence) :\n",
    "    code = [] + [[5,-5]] if sequence[0]==1 else [] + [[-5,-5]]\n",
    "    for i in range(1,len(sequence)) :\n",
    "        if sequence[i]==0 and sequence[i-1] == 0 :\n",
    "            code.append([-code[-1][1],-code[-1][1]])\n",
    "        elif sequence[i] == 0 and sequence[i-1]==1 :\n",
    "            code.append([code[-1][1],code[-1][1]])\n",
    "        else :\n",
    "            code.append([code[-1][1],-code[-1][1]])\n",
    "    return code"
   ]
  },
  {
   "cell_type": "markdown",
   "metadata": {},
   "source": [
    "## CMI"
   ]
  },
  {
   "cell_type": "code",
   "execution_count": null,
   "metadata": {},
   "outputs": [],
   "source": [
    "def CMI(sequence) :\n",
    "    code = [] + [[-5,5]] if sequence[0]==1 else [] + [[-5,-5]]\n",
    "    for i in range(1,len(sequence)) :\n",
    "        if sequence[i]==0 and sequence[i-1] == 0 :\n",
    "            code.append([-code[-1][1],-code[-1][1]])\n",
    "        elif sequence[i] == 0 and sequence[i-1]==1 :\n",
    "            code.append([code[-1][1],code[-1][1]])\n",
    "        else :\n",
    "            code.extend([[-5,5]])\n",
    "    return code"
   ]
  },
  {
   "cell_type": "markdown",
   "metadata": {},
   "source": [
    "## AMI"
   ]
  },
  {
   "cell_type": "code",
   "execution_count": null,
   "metadata": {},
   "outputs": [],
   "source": [
    "def AMI(sequence) :\n",
    "    change = 5 \n",
    "    code = []\n",
    "    for i in range(len(sequence)) :\n",
    "        if sequence[i] == 1 :\n",
    "            code.append(change)\n",
    "            change = - change\n",
    "        else : code.append(0)\n",
    "    return code"
   ]
  },
  {
   "cell_type": "markdown",
   "metadata": {},
   "source": [
    "## MTL3"
   ]
  },
  {
   "cell_type": "code",
   "execution_count": null,
   "metadata": {},
   "outputs": [],
   "source": [
    "def MLT3(sequence) :\n",
    "    code = [0] if sequence[0] == 0 else [5]\n",
    "    transition = [5,0,-5,0] if code[0] == 0 else [0,-5,0,5]\n",
    "    for i in range(1,len(sequence)) :\n",
    "        if sequence[i] == 1 :\n",
    "            code.append(transition[0])\n",
    "            transition = transition[1:] + [transition[0]]\n",
    "        else : code.append(code[-1])\n",
    "    return code"
   ]
  },
  {
   "cell_type": "markdown",
   "metadata": {},
   "source": [
    "## 2BIQ"
   ]
  },
  {
   "cell_type": "code",
   "execution_count": null,
   "metadata": {},
   "outputs": [],
   "source": [
    "def c2BIQ(sequence) :\n",
    "    dictt = {(0,0): -3,(0,1):-1,(1,1):1,(1,0):3}\n",
    "    sequence = np.array(sequence).reshape(-1,1)\n",
    "    sequence = np.concatenate((sequence[:-1:2],sequence[1::2]),axis=1)\n",
    "    code = [dictt[tuple(seq)] for seq in sequence]\n",
    "    return code"
   ]
  }
 ],
 "metadata": {
  "kernelspec": {
   "display_name": "base",
   "language": "python",
   "name": "python3"
  },
  "language_info": {
   "codemirror_mode": {
    "name": "ipython",
    "version": 3
   },
   "file_extension": ".py",
   "mimetype": "text/x-python",
   "name": "python",
   "nbconvert_exporter": "python",
   "pygments_lexer": "ipython3",
   "version": "3.11.5"
  }
 },
 "nbformat": 4,
 "nbformat_minor": 2
}

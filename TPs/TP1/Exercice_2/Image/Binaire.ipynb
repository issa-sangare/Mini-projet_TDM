{
 "cells": [
  {
   "cell_type": "code",
   "execution_count": 2,
   "metadata": {},
   "outputs": [],
   "source": [
    "from IPython.display import display\n",
    "from PIL import Image\n",
    "import numpy as np"
   ]
  },
  {
   "cell_type": "code",
   "execution_count": 28,
   "metadata": {},
   "outputs": [
    {
     "name": "stdout",
     "output_type": "stream",
     "text": [
      "\n",
      "\n",
      " [[1 1 1 ... 1 1 1]\n",
      " [1 1 1 ... 1 1 1]\n",
      " [1 1 1 ... 1 1 1]\n",
      " ...\n",
      " [1 1 1 ... 0 0 1]\n",
      " [1 1 1 ... 0 0 0]\n",
      " [1 1 1 ... 1 1 1]]\n"
     ]
    },
    {
     "data": {
      "image/png": "[encoded data removed]",
      "text/plain": [
       "<PIL.Image.Image image mode=L size=224x222 at 0x7DA34C0B7EE0>"
      ]
     },
     "metadata": {},
     "output_type": "display_data"
    }
   ],
   "source": [
    "img_gray = Image.open(\"../Images/img3/eren_gray.jpg\") # open colour image\n",
    "img_bin = img_gray.convert('1', dither=Image.NONE)\n",
    "img_bin = np.array(img_bin, dtype=np.uint8)\n",
    "L, C = img_bin.shape\n",
    "im = img_bin\n",
    "print(\"\\n\\n\", im)\n",
    "display(Image.fromarray(im * 255))"
   ]
  },
  {
   "cell_type": "code",
   "execution_count": 48,
   "metadata": {},
   "outputs": [
    {
     "name": "stdout",
     "output_type": "stream",
     "text": [
      "[[0 1 0 1]\n",
      " [1 0 1 0]\n",
      " [0 1 0 1]\n",
      " [1 0 1 0]]\n",
      "[[0 1 0 1]\n",
      " [1 0 1 0]\n",
      " [0 1 0 1]\n",
      " [1 0 1 0]]\n"
     ]
    },
    {
     "data": {
      "image/png": "[encoded data removed]",
      "text/plain": [
       "<PIL.PngImagePlugin.PngImageFile image mode=1 size=4x4 at 0x7DA34072B0D0>"
      ]
     },
     "metadata": {},
     "output_type": "display_data"
    },
    {
     "name": "stdout",
     "output_type": "stream",
     "text": [
      "True\n"
     ]
    }
   ],
   "source": [
    "from PIL import Image\n",
    "\n",
    "# Création d'une matrice représentant une image binaire noir et blanc\n",
    "image_binaire = [\n",
    "    [0, 1, 0, 1],\n",
    "    [1, 0, 1, 0],\n",
    "    [0, 1, 0, 1],\n",
    "    [1, 0, 1, 0]\n",
    "]\n",
    "\n",
    "# Conversion de la matrice en objet Image avec la bibliothèque PIL\n",
    "image_pil = Image.new('1', (len(image_binaire[0]), len(image_binaire)))\n",
    "for y, ligne in enumerate(image_binaire):\n",
    "    for x, pixel in enumerate(ligne):\n",
    "        image_pil.putpixel((x, y), pixel)\n",
    "\n",
    "# Sauvegarde de l'image binaire dans un fichier\n",
    "image_pil.save('image_binaire.png')\n",
    "\n",
    "# Récupération de l'image à partir du fichier\n",
    "image_recuperee = Image.open('image_binaire.png')\n",
    "print(np.array(image_recuperee, dtype=np.uint))\n",
    "print(np.array(image_binaire))\n",
    "\n",
    "# Affichage de l'image récupérée\n",
    "display(image_recuperee)\n",
    "print(np.array_equal(np.array(image_binaire), np.array(image_recuperee, dtype=np.uint)))"
   ]
  },
  {
   "cell_type": "code",
   "execution_count": 272,
   "metadata": {},
   "outputs": [],
   "source": [
    "def vecteur_ligne(matrice):\n",
    "  vecteur = np.array(matrice, dtype=np.uint8)\n",
    "  vecteur = vecteur.flatten()\n",
    "  return np.array(vecteur, dtype=np.uint8)"
   ]
  },
  {
   "cell_type": "code",
   "execution_count": 273,
   "metadata": {},
   "outputs": [],
   "source": [
    "def inverse_vecteur_ligne(vecteur, lignes, colonnes):\n",
    "  mat = np.array(vecteur, dtype=np.uint8)\n",
    "  mat = mat.reshape((lignes, colonnes))\n",
    "  return mat.astype(np.uint8)"
   ]
  },
  {
   "cell_type": "code",
   "execution_count": 274,
   "metadata": {},
   "outputs": [],
   "source": [
    "def vecteur_colonne(matrice):\n",
    "  vecteur = np.ravel(matrice, order = 'F')\n",
    "  return np.array(vecteur, dtype=np.uint8)"
   ]
  },
  {
   "cell_type": "code",
   "execution_count": 275,
   "metadata": {},
   "outputs": [],
   "source": [
    "def inverse_vecteur_colonne(vecteur, lignes, colonnes):\n",
    "  aux = lignes\n",
    "  lignes = colonnes\n",
    "  colonnes = aux\n",
    "  mat = np.array(vecteur, dtype=np.uint8)\n",
    "  mat = mat.reshape((lignes, colonnes))\n",
    "  mat = mat.T\n",
    "  return mat.astype(np.uint8)"
   ]
  },
  {
   "cell_type": "code",
   "execution_count": 276,
   "metadata": {},
   "outputs": [],
   "source": [
    "def vecteur_zigzag(matrice):\n",
    "    matrice = np.array(matrice, dtype=np.uint8)\n",
    "    lignes, colonnes = matrice.shape\n",
    "    solution = [[] for i in range(lignes + colonnes - 1)]\n",
    "    \n",
    "    for i in range(lignes):\n",
    "        for j in range(colonnes):\n",
    "            somme = i + j\n",
    "            if somme % 2 == 0:\n",
    "                solution[somme].insert(0, matrice[i, j])\n",
    "            else:\n",
    "                solution[somme].append(matrice[i, j])\n",
    "    resultat = np.concatenate(solution)\n",
    "    \n",
    "    return np.array(resultat, dtype=np.uint8)"
   ]
  },
  {
   "cell_type": "code",
   "execution_count": 277,
   "metadata": {},
   "outputs": [],
   "source": [
    "def inverse_vecteur_zigzag(vecteur, lignes, colonnes):\n",
    "    aux = lignes\n",
    "    lignes = colonnes\n",
    "    colonnes = aux\n",
    "    nb_elements = lignes * colonnes\n",
    "    \n",
    "    if len(vecteur) != nb_elements:\n",
    "        raise ValueError(\"La longueur du vecteur ne correspond pas au nombre total d'éléments de la matrice.\")\n",
    "    \n",
    "    matrice = np.zeros((lignes, colonnes), dtype=np.int8)\n",
    "    solution = [[] for i in range(lignes + colonnes - 1)]\n",
    "    \n",
    "    for i in range(lignes + colonnes - 1):\n",
    "        nb_elements = min(i + 1, lignes, colonnes, lignes + colonnes - 1 - i)\n",
    "        for j in range(nb_elements):\n",
    "            if i % 2 == 0:\n",
    "                solution[i].append(vecteur.pop(0))\n",
    "            else:\n",
    "                solution[i].insert(0, vecteur.pop(0))\n",
    "                \n",
    "    for i in range(lignes):\n",
    "        for j in range(colonnes):\n",
    "            matrice[i, j] = solution[i + j].pop(0)\n",
    "            \n",
    "    matrice = matrice.T\n",
    "    return matrice.astype(np.uint8)"
   ]
  },
  {
   "cell_type": "markdown",
   "metadata": {},
   "source": [
    "### (1). Écrire une fonction qui extrait les différents symboles ainsi que leurs fréquences respectives"
   ]
  },
  {
   "cell_type": "code",
   "execution_count": 278,
   "metadata": {},
   "outputs": [],
   "source": [
    "def ext_chr(chaine):\n",
    "  occ = {c: chaine.count(c) for c in set(chaine)}\n",
    "  return sorted(occ.items(), key = lambda x: x[1], reverse = True)"
   ]
  },
  {
   "cell_type": "code",
   "execution_count": 279,
   "metadata": {},
   "outputs": [],
   "source": [
    "def frequency(chaine):\n",
    "  freq = {c: (chaine.count(c))/len(chaine) for c in set(chaine)}\n",
    "  return sorted(freq.items(), key = lambda x: x[1])"
   ]
  },
  {
   "cell_type": "markdown",
   "metadata": {},
   "source": [
    "### (2). Écrire une fonction qui crée le dictionnaire de codes $Huffman$ et qui en déduit les codes de compression"
   ]
  },
  {
   "cell_type": "code",
   "execution_count": 280,
   "metadata": {},
   "outputs": [],
   "source": [
    "def arbre_huffman(chaine):\n",
    "  noeuds = ext_chr(chaine)\n",
    "  \n",
    "  while len(noeuds) > 1:\n",
    "    (key1, c1) = noeuds.pop()\n",
    "    (key2, c2) = noeuds.pop()\n",
    "    noeud = (key1, key2)\n",
    "    noeuds.append((noeud, c1 + c2))\n",
    "    noeuds.sort(key = lambda x: x[1], reverse = True)\n",
    "    \n",
    "  return noeuds[0][0]"
   ]
  },
  {
   "cell_type": "code",
   "execution_count": 281,
   "metadata": {},
   "outputs": [],
   "source": [
    "def dictionnaire_huffman(noeud, binstring = ''):\n",
    "  if isinstance(noeud, str):\n",
    "    return {noeud: binstring}\n",
    "  (l, r) = noeud\n",
    "  d = {}\n",
    "  d.update(dictionnaire_huffman(l, binstring + '0'))\n",
    "  d.update(dictionnaire_huffman(r, binstring + '1'))\n",
    "  return d"
   ]
  },
  {
   "cell_type": "code",
   "execution_count": 282,
   "metadata": {},
   "outputs": [],
   "source": [
    "def compress_huffman(chaine):\n",
    "  noeuds = arbre_huffman(chaine)\n",
    "  codeHuffman = dictionnaire_huffman(noeuds)\n",
    "  chaine_compresse = ''\n",
    "  \n",
    "  for char in chaine:\n",
    "    chaine_compresse += codeHuffman[char]\n",
    "  \n",
    "  return chaine_compresse"
   ]
  },
  {
   "cell_type": "markdown",
   "metadata": {},
   "source": [
    "### (3). Écrire une fonction qui évalue toutes les caractéristiques du code"
   ]
  },
  {
   "cell_type": "code",
   "execution_count": 283,
   "metadata": {},
   "outputs": [],
   "source": [
    "def entropy(chaine):\n",
    "  liste = []\n",
    "  \n",
    "  for i, j in frequency(chaine):\n",
    "    liste.append(j)\n",
    "  \n",
    "  return -np.sum(liste * np.log2(liste))"
   ]
  },
  {
   "cell_type": "code",
   "execution_count": 284,
   "metadata": {},
   "outputs": [],
   "source": [
    "def mean_length(chaine):\n",
    "  arbre = arbre_huffman(chaine)\n",
    "  frequence = frequency(chaine)\n",
    "  dictionnaire = dictionnaire_huffman(arbre).items()\n",
    "  dictionnaire = list(dictionnaire)\n",
    "  aux = []\n",
    "  sum = 0\n",
    "  \n",
    "  for i, j in dictionnaire:\n",
    "    for k, l in frequence:\n",
    "      if i == k:\n",
    "        aux.append(((i, j), (k, l)))\n",
    "        sum += l * len(j)\n",
    "        \n",
    "  #print(aux)\n",
    "    \n",
    "  return sum"
   ]
  },
  {
   "cell_type": "code",
   "execution_count": 285,
   "metadata": {},
   "outputs": [],
   "source": [
    "def efficacity(chaine):\n",
    "  return entropy(chaine) / mean_length(chaine)"
   ]
  },
  {
   "cell_type": "code",
   "execution_count": 286,
   "metadata": {},
   "outputs": [],
   "source": [
    "def rendement(chaine, alphabet_code):\n",
    "  return entropy(chaine) / (mean_length(chaine) * np.log2(alphabet_code))"
   ]
  },
  {
   "cell_type": "code",
   "execution_count": 287,
   "metadata": {},
   "outputs": [],
   "source": [
    "def redondance(chaine, alphabet_code):\n",
    "  return 1 - rendement(chaine, alphabet_code)"
   ]
  },
  {
   "cell_type": "code",
   "execution_count": 288,
   "metadata": {},
   "outputs": [],
   "source": [
    "def features(chaine, alphabet_code):\n",
    "  caracteristiques = {}\n",
    "  \n",
    "  caracteristiques['Entropie'] = entropy(chaine)\n",
    "  caracteristiques['Longueur_moyenne'] = mean_length(chaine)\n",
    "  caracteristiques['Efficacité'] = efficacity(chaine)\n",
    "  caracteristiques['Rendement'] = rendement(chaine, alphabet_code)\n",
    "  caracteristiques['Redondance'] = redondance(chaine, alphabet_code)\n",
    "  \n",
    "  return caracteristiques"
   ]
  },
  {
   "cell_type": "markdown",
   "metadata": {},
   "source": [
    "### (4). Écrire une fonction qui réalise le décodage d’une liste de booléen selon l’arbre passé en paramètre et qui permet de remonter à la séquence initiale."
   ]
  },
  {
   "cell_type": "code",
   "execution_count": 289,
   "metadata": {},
   "outputs": [],
   "source": [
    "def decompress_huffman(chaine_compressee, arbre):\n",
    "  codeHuffman = dictionnaire_huffman(arbre)\n",
    "  chaine_decompressee = ''\n",
    "  code = ''\n",
    "  \n",
    "  for bit in chaine_compressee:\n",
    "    code += bit\n",
    "    for char, encoding in codeHuffman.items():\n",
    "      if code == encoding:\n",
    "        chaine_decompressee += char\n",
    "        code = ''\n",
    "        break\n",
    "  \n",
    "  return chaine_decompressee"
   ]
  },
  {
   "cell_type": "code",
   "execution_count": 290,
   "metadata": {},
   "outputs": [],
   "source": [
    "def taux_compression(data, compressed_data):\n",
    "    taux = 1 - (len(compressed_data) / (len(data) * 8))\n",
    "    return taux * 100"
   ]
  },
  {
   "cell_type": "code",
   "execution_count": 291,
   "metadata": {},
   "outputs": [],
   "source": [
    "def chaine_ASCII(liste):\n",
    "    chaine_binaire = \"\"\n",
    "    for caractere in liste:\n",
    "        chaine_binaire += chr(caractere)\n",
    "    return chaine_binaire"
   ]
  },
  {
   "cell_type": "code",
   "execution_count": 292,
   "metadata": {},
   "outputs": [],
   "source": [
    "def chaine_ASCII_inverse(chaine):\n",
    "    chaine_binaire = []\n",
    "    for caractere in chaine:\n",
    "        chaine_binaire.append(ord(caractere))\n",
    "    return chaine_binaire"
   ]
  },
  {
   "cell_type": "code",
   "execution_count": 293,
   "metadata": {},
   "outputs": [],
   "source": [
    "img_bin = vecteur_ligne(img_bin)"
   ]
  },
  {
   "cell_type": "code",
   "execution_count": 294,
   "metadata": {},
   "outputs": [
    {
     "data": {
      "text/plain": [
       "{'\\x00': '0', '\\x01': '1'}"
      ]
     },
     "execution_count": 294,
     "metadata": {},
     "output_type": "execute_result"
    }
   ],
   "source": [
    "dictionnaire_huffman(arbre_huffman(chaine_ASCII(img_bin)))"
   ]
  },
  {
   "cell_type": "code",
   "execution_count": 295,
   "metadata": {},
   "outputs": [],
   "source": [
    "def huffman_binary(image):\n",
    "  image = chaine_ASCII(image)\n",
    "  compressed = compress_huffman(image)\n",
    "  return compressed"
   ]
  },
  {
   "cell_type": "code",
   "execution_count": 296,
   "metadata": {},
   "outputs": [],
   "source": [
    "def huffman_binary_inverse(compressed_image, image_vector):\n",
    "  image_vector = chaine_ASCII(image_vector)\n",
    "  arbre = arbre_huffman(image_vector)\n",
    "  decompressed = decompress_huffman(compressed_image, arbre)\n",
    "  image = chaine_ASCII_inverse(decompressed)\n",
    "  return image"
   ]
  },
  {
   "cell_type": "code",
   "execution_count": 297,
   "metadata": {},
   "outputs": [],
   "source": [
    "compressed = huffman_binary(img_bin)"
   ]
  },
  {
   "cell_type": "code",
   "execution_count": 298,
   "metadata": {},
   "outputs": [
    {
     "name": "stdout",
     "output_type": "stream",
     "text": [
      "taux de compression: 87.5 %\n"
     ]
    }
   ],
   "source": [
    "print(f\"taux de compression: {taux_compression(img_bin, compressed)} %\")"
   ]
  },
  {
   "cell_type": "code",
   "execution_count": 299,
   "metadata": {},
   "outputs": [],
   "source": [
    "decompressed = huffman_binary_inverse(compressed, img_bin)"
   ]
  },
  {
   "cell_type": "code",
   "execution_count": 300,
   "metadata": {},
   "outputs": [],
   "source": [
    "img = inverse_vecteur_ligne(decompressed, L, C)"
   ]
  },
  {
   "cell_type": "code",
   "execution_count": 301,
   "metadata": {},
   "outputs": [
    {
     "name": "stdout",
     "output_type": "stream",
     "text": [
      "Les vecteurs images sont identiques\n"
     ]
    }
   ],
   "source": [
    "if (img_bin == decompressed).all():\n",
    "  print(\"Les vecteurs images sont identiques\")\n",
    "else:\n",
    "  print(\"Les vecteurs images ne sont pas identiques\")"
   ]
  },
  {
   "cell_type": "code",
   "execution_count": 302,
   "metadata": {},
   "outputs": [
    {
     "name": "stdout",
     "output_type": "stream",
     "text": [
      "Les matrices images sont identiques\n"
     ]
    }
   ],
   "source": [
    "if (im == img).all():\n",
    "  print(\"Les matrices images sont identiques\")\n",
    "else:\n",
    "  print(\"Les matrices images ne sont pas identiques\")"
   ]
  },
  {
   "cell_type": "code",
   "execution_count": 303,
   "metadata": {},
   "outputs": [
    {
     "data": {
      "image/png": "[encoded data removed]",
      "text/plain": [
       "<PIL.Image.Image image mode=L size=224x222 at 0x7F40CDC60940>"
      ]
     },
     "metadata": {},
     "output_type": "display_data"
    }
   ],
   "source": [
    "img = Image.fromarray(img * 255)\n",
    "display(img)"
   ]
  },
  {
   "cell_type": "code",
   "execution_count": 304,
   "metadata": {},
   "outputs": [
    {
     "data": {
      "image/png": "[encoded data removed]",
      "text/plain": [
       "<PIL.Image.Image image mode=L size=224x222 at 0x7F40CDC61A20>"
      ]
     },
     "metadata": {},
     "output_type": "display_data"
    }
   ],
   "source": [
    "im = Image.fromarray(im*255)\n",
    "display(im)"
   ]
  }
 ],
 "metadata": {
  "kernelspec": {
   "display_name": "Python 3",
   "language": "python",
   "name": "python3"
  },
  "language_info": {
   "codemirror_mode": {
    "name": "ipython",
    "version": 3
   },
   "file_extension": ".py",
   "mimetype": "text/x-python",
   "name": "python",
   "nbconvert_exporter": "python",
   "pygments_lexer": "ipython3",
   "version": "3.10.12"
  }
 },
 "nbformat": 4,
 "nbformat_minor": 2
}

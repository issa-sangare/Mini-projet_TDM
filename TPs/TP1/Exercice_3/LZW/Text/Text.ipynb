{
 "cells": [
  {
   "cell_type": "code",
   "execution_count": 19,
   "metadata": {},
   "outputs": [],
   "source": [
    "import numpy as np"
   ]
  },
  {
   "cell_type": "code",
   "execution_count": 20,
   "metadata": {},
   "outputs": [],
   "source": [
    "data2 = \"1000001001000000111001101101101011000010111001001110100001000000111000001101000011011110110111001100101001011000010000001101100011010010110101101100101001000000111100101101111011101010111001000100000011011000110000101110000011101000110111101110000001000000110111101110010001000000110010001100101011100110110101101110100011011110111000000100000011000110110111101101101011100000111010101110100011001010111001000101100001000000110001101100001011011100\"\n",
    "data3 = \"11010000001011100111\"\n",
    "data4 = \"00101111110100011000\"\n",
    "data5 = \"ton message est sage, simple et sagace\"\n",
    "data6 = \"AABABBBABAABABBBABBABB\"\n",
    "data7 = 'LICENCE IRM A LA FST'\n",
    "data8 = \"BAABABBBAABBBBAA\"\n",
    "data9 = \"1001011100011100101\"\n",
    "alphabet1 = \"abcdegilmnoprstu ,\"\n",
    "alphabet2 = ['a', 'b', 'c', 'd', 'e', 'g', 'i', 'l', 'm', 'n', 'o', 'p', 'r', 's', 't', 'u', ' ', ',']\n",
    "alphabet3 = [chr(i) for i in range(256)]\n",
    "alphabet5 = ['A', 'B']\n",
    "alphabet6 = ['0', '1']\n",
    "\n",
    "#compressed = [14, 10, 9, 16, 8, 4, 13, 13, 0, 5, 4, 16, 23, 14, 16, 25, 27, 17, 32, 6, 8, 11, 7, 28, 4, 31, 33, 0, 2, 4]\n",
    "\n",
    "with open(\"../../Textes/file2.txt\", 'r') as fichier:\n",
    "  text = fichier.read()"
   ]
  },
  {
   "cell_type": "code",
   "execution_count": 21,
   "metadata": {},
   "outputs": [],
   "source": [
    "def compress_lzw(data, alphabet):\n",
    "    dictionary = {}\n",
    "    result = []\n",
    "    current_code = len(alphabet)\n",
    "\n",
    "    # Initialiser le dictionnaire avec les caractères de l'alphabet spécifié\n",
    "    for i, char in enumerate(alphabet):\n",
    "        dictionary[char] = i\n",
    "\n",
    "    prefix = ''\n",
    "    for char in data:\n",
    "        new_entry = prefix + char\n",
    "        if new_entry in dictionary:\n",
    "            prefix = new_entry\n",
    "        else:\n",
    "            result.append(dictionary[prefix])\n",
    "            dictionary[new_entry] = current_code\n",
    "            current_code += 1\n",
    "            prefix = char\n",
    "\n",
    "    # Gérer le dernier préfixe\n",
    "    if prefix:\n",
    "        result.append(dictionary[prefix])\n",
    "\n",
    "    return result"
   ]
  },
  {
   "cell_type": "code",
   "execution_count": 22,
   "metadata": {},
   "outputs": [],
   "source": [
    "def decompress_lzw(compressed_data, alphabet):\n",
    "    result = []\n",
    "    dictionary = {}\n",
    "    current_code = len(alphabet)\n",
    "\n",
    "    # Initialiser le dictionnaire avec les caractères de l'alphabet spécifié\n",
    "    for i, char in enumerate(alphabet):\n",
    "        dictionary[i] = char\n",
    "\n",
    "    old_entry = dictionary[compressed_data[0]]\n",
    "    result.append(old_entry)\n",
    "    for new_entry in compressed_data[1:]:\n",
    "        if new_entry in dictionary:\n",
    "            entry = dictionary[new_entry]\n",
    "        elif new_entry == current_code:\n",
    "            entry = old_entry + old_entry[0]\n",
    "        else:\n",
    "            raise ValueError(\"Mauvaise séquence compressée\")\n",
    "\n",
    "        result.append(entry)\n",
    "\n",
    "        # Utilisez le même dictionnaire pour la décompression\n",
    "        dictionary[current_code] = old_entry + entry[0]\n",
    "        current_code += 1\n",
    "        old_entry = entry\n",
    "\n",
    "    return ''.join(result)"
   ]
  },
  {
   "cell_type": "code",
   "execution_count": 23,
   "metadata": {},
   "outputs": [],
   "source": [
    "compressed = compress_lzw(data9, alphabet6)"
   ]
  },
  {
   "cell_type": "code",
   "execution_count": 24,
   "metadata": {},
   "outputs": [],
   "source": [
    "decompressed = decompress_lzw(compressed, alphabet6)"
   ]
  },
  {
   "cell_type": "code",
   "execution_count": 25,
   "metadata": {},
   "outputs": [
    {
     "data": {
      "text/plain": [
       "True"
      ]
     },
     "execution_count": 25,
     "metadata": {},
     "output_type": "execute_result"
    }
   ],
   "source": [
    "data9 == decompressed"
   ]
  },
  {
   "cell_type": "code",
   "execution_count": 26,
   "metadata": {},
   "outputs": [
    {
     "data": {
      "text/plain": [
       "[1, 0, 0, 2, 1, 6, 3, 4, 7, 4, 4]"
      ]
     },
     "execution_count": 26,
     "metadata": {},
     "output_type": "execute_result"
    }
   ],
   "source": [
    "compressed"
   ]
  },
  {
   "cell_type": "code",
   "execution_count": 27,
   "metadata": {},
   "outputs": [],
   "source": [
    "comp = [97, 256, 98, 98, 97, 259, 259, 257, 260, 98]"
   ]
  },
  {
   "cell_type": "code",
   "execution_count": 28,
   "metadata": {},
   "outputs": [
    {
     "data": {
      "text/plain": [
       "'aaabbababaaababb'"
      ]
     },
     "execution_count": 28,
     "metadata": {},
     "output_type": "execute_result"
    }
   ],
   "source": [
    "decompress_lzw(comp, alphabet3)"
   ]
  },
  {
   "cell_type": "code",
   "execution_count": 29,
   "metadata": {},
   "outputs": [],
   "source": [
    "def taux_compression(data, compressed_data):\n",
    "    maxi = max(compressed_data)\n",
    "    bit_max = int(np.log2(maxi)) + 1\n",
    "    taux = 1 - ((len(compressed_data) * bit_max) / (len(data) * 8))\n",
    "    return taux"
   ]
  },
  {
   "cell_type": "code",
   "execution_count": 30,
   "metadata": {},
   "outputs": [
    {
     "data": {
      "text/plain": [
       "0.8125"
      ]
     },
     "execution_count": 30,
     "metadata": {},
     "output_type": "execute_result"
    }
   ],
   "source": [
    "taux_compression(data6, compressed)"
   ]
  },
  {
   "cell_type": "code",
   "execution_count": 31,
   "metadata": {},
   "outputs": [],
   "source": [
    "def text_to_binary(text):\n",
    "    # Convertir le texte en bytes en utilisant l'encodage Python par défaut (UTF-8)\n",
    "    encoded_text = text.encode()\n",
    "    \n",
    "    # Convertir chaque byte en sa représentation binaire\n",
    "    binary_sequence = ''.join(format(byte, '08b') for byte in encoded_text)\n",
    "    \n",
    "    return binary_sequence"
   ]
  },
  {
   "cell_type": "code",
   "execution_count": 32,
   "metadata": {},
   "outputs": [],
   "source": [
    "def binary_to_text(binary_sequence):\n",
    "    # Diviser la séquence binaire en octets de 8 bits\n",
    "    bytes_list = [binary_sequence[i:i+8] for i in range(0, len(binary_sequence), 8)]\n",
    "    \n",
    "    # Convertir chaque octet en caractère en utilisant l'encodage UTF-8\n",
    "    decoded_text = bytes(int(byte, 2) for byte in bytes_list).decode('utf-8').rstrip('\\x00')\n",
    "    \n",
    "    return decoded_text"
   ]
  },
  {
   "cell_type": "code",
   "execution_count": 33,
   "metadata": {},
   "outputs": [],
   "source": [
    "def lzw_to_text(data, alphabet):\n",
    "  binary_sequence = text_to_binary(data)\n",
    "  encoded_text = compress_lzw(binary_sequence, alphabet)\n",
    "  return encoded_text"
   ]
  },
  {
   "cell_type": "code",
   "execution_count": 34,
   "metadata": {},
   "outputs": [],
   "source": [
    "def text_to_lzw(encoded, alphabet):\n",
    "  decompressed = decompress_lzw(encoded, alphabet)\n",
    "  original_text = binary_to_text(decompressed)\n",
    "  return original_text"
   ]
  },
  {
   "cell_type": "code",
   "execution_count": 35,
   "metadata": {},
   "outputs": [],
   "source": [
    "encoded = lzw_to_text(text, alphabet3)"
   ]
  },
  {
   "cell_type": "code",
   "execution_count": 36,
   "metadata": {},
   "outputs": [],
   "source": [
    "decoded = text_to_lzw(encoded, alphabet3)"
   ]
  },
  {
   "cell_type": "code",
   "execution_count": 37,
   "metadata": {},
   "outputs": [
    {
     "data": {
      "text/plain": [
       "True"
      ]
     },
     "execution_count": 37,
     "metadata": {},
     "output_type": "execute_result"
    }
   ],
   "source": [
    "text == decoded"
   ]
  },
  {
   "cell_type": "code",
   "execution_count": 38,
   "metadata": {},
   "outputs": [
    {
     "data": {
      "text/plain": [
       "0.1337720636304206"
      ]
     },
     "execution_count": 38,
     "metadata": {},
     "output_type": "execute_result"
    }
   ],
   "source": [
    "taux_compression(text, encoded)"
   ]
  }
 ],
 "metadata": {
  "kernelspec": {
   "display_name": "Python 3",
   "language": "python",
   "name": "python3"
  },
  "language_info": {
   "codemirror_mode": {
    "name": "ipython",
    "version": 3
   },
   "file_extension": ".py",
   "mimetype": "text/x-python",
   "name": "python",
   "nbconvert_exporter": "python",
   "pygments_lexer": "ipython3",
   "version": "3.10.12"
  }
 },
 "nbformat": 4,
 "nbformat_minor": 2
}

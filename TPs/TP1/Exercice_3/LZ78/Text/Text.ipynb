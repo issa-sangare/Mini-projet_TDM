{
 "cells": [
  {
   "cell_type": "code",
   "execution_count": 1,
   "metadata": {},
   "outputs": [],
   "source": [
    "import numpy as np"
   ]
  },
  {
   "cell_type": "code",
   "execution_count": 2,
   "metadata": {},
   "outputs": [],
   "source": [
    "data = \"HHHHHHCCCCCCCAAAASSSSSFMMMMMMMMMEEIIIOP\"\n",
    "data1 = \"1000001001000000111001101101101011000010111001001110100001000000111000001101000011011110110111001100101001011000010000001101100011010010110101101100101001000000111100101101111011101010111001000100000011011000110000101110000011101000110111101110000001000000110111101110010001000000110010001100101011100110110101101110100011011110111000000100000011000110110111101101101011100000111010101110100011001010111001000101100001000000110001101100001011011100\"\n",
    "data2 = \"11010000001011100111\"\n",
    "data3 = \"00101111110100011000\"\n",
    "original_data = 'LICENCE IRM A LA FST'\n",
    "\n",
    "with open(\"../../Textes/file2.txt\", 'r') as fichier:\n",
    "  text = fichier.read()"
   ]
  },
  {
   "cell_type": "code",
   "execution_count": 3,
   "metadata": {},
   "outputs": [],
   "source": [
    "def compress_lz78(data):\n",
    "  dictionary = {}\n",
    "  encoded_data = []\n",
    "  current_phrase = \"\"\n",
    "  \n",
    "  for char in data:\n",
    "    current_phrase += char\n",
    "    if current_phrase not in dictionary:\n",
    "      if len(current_phrase) == 1:\n",
    "        encoded_data.append((0, char))\n",
    "      else:\n",
    "        encoded_data.append((dictionary[current_phrase[:-1]], char))\n",
    "    \n",
    "      dictionary[current_phrase] = len(dictionary) + 1\n",
    "      current_phrase = \"\"\n",
    "    \n",
    "  if current_phrase:\n",
    "    encoded_data.append((dictionary[current_phrase], \"\"))\n",
    "    \n",
    "  return encoded_data"
   ]
  },
  {
   "cell_type": "code",
   "execution_count": 4,
   "metadata": {},
   "outputs": [],
   "source": [
    "encoded = compress_lz78(text)"
   ]
  },
  {
   "cell_type": "code",
   "execution_count": 5,
   "metadata": {},
   "outputs": [],
   "source": [
    "def decompress_lz78(compressed_data):\n",
    "    dictionary = {0: ''}\n",
    "    decoded_data = ''\n",
    "    \n",
    "    for index, char in compressed_data:\n",
    "        if index in dictionary:\n",
    "            phrase = dictionary[index] + char\n",
    "        else:\n",
    "            phrase = dictionary[index - 1] + char\n",
    "        \n",
    "        decoded_data += phrase\n",
    "        dictionary[len(dictionary)] = phrase\n",
    "    \n",
    "    return decoded_data"
   ]
  },
  {
   "cell_type": "code",
   "execution_count": 6,
   "metadata": {},
   "outputs": [],
   "source": [
    "decoded = decompress_lz78(encoded)"
   ]
  },
  {
   "cell_type": "code",
   "execution_count": 7,
   "metadata": {},
   "outputs": [
    {
     "data": {
      "text/plain": [
       "True"
      ]
     },
     "execution_count": 7,
     "metadata": {},
     "output_type": "execute_result"
    }
   ],
   "source": [
    "decoded == text"
   ]
  },
  {
   "cell_type": "code",
   "execution_count": 8,
   "metadata": {},
   "outputs": [],
   "source": [
    "def taux_compression(data, compressed_data):\n",
    "    occurences = []\n",
    "    \n",
    "    for i, _ in compressed_data:\n",
    "      occurences.append(i)\n",
    "      \n",
    "    maxi = max(occurences)\n",
    "    bit_max = int(np.log2(maxi)) + 1\n",
    "    taux = 1 - (len(compressed_data) * (8 + bit_max) / (len(data) * 8))\n",
    "    return taux"
   ]
  },
  {
   "cell_type": "code",
   "execution_count": 9,
   "metadata": {},
   "outputs": [
    {
     "data": {
      "text/plain": [
       "-1677.4839743589744"
      ]
     },
     "execution_count": 9,
     "metadata": {},
     "output_type": "execute_result"
    }
   ],
   "source": [
    "taux_compression(data, encoded)"
   ]
  },
  {
   "cell_type": "code",
   "execution_count": 10,
   "metadata": {},
   "outputs": [],
   "source": [
    "def text_to_binary(text):\n",
    "    # Convertir le texte en bytes en utilisant l'encodage Python par défaut (UTF-8)\n",
    "    encoded_text = text.encode()\n",
    "    \n",
    "    # Convertir chaque byte en sa représentation binaire\n",
    "    binary_sequence = ''.join(format(byte, '08b') for byte in encoded_text)\n",
    "    \n",
    "    return binary_sequence"
   ]
  },
  {
   "cell_type": "code",
   "execution_count": 11,
   "metadata": {},
   "outputs": [],
   "source": [
    "def binary_to_text(binary_sequence):\n",
    "    # Diviser la séquence binaire en octets de 8 bits\n",
    "    bytes_list = [binary_sequence[i:i+8] for i in range(0, len(binary_sequence), 8)]\n",
    "    \n",
    "    # Convertir chaque octet en caractère en utilisant l'encodage UTF-8\n",
    "    decoded_text = bytes(int(byte, 2) for byte in bytes_list).decode('utf-8').rstrip('\\x00')\n",
    "    \n",
    "    return decoded_text"
   ]
  },
  {
   "cell_type": "code",
   "execution_count": 12,
   "metadata": {},
   "outputs": [],
   "source": [
    "def lz78_to_text(data):\n",
    "  binary_sequence = text_to_binary(data)\n",
    "  encoded_text = compress_lz78(binary_sequence)\n",
    "  return encoded_text"
   ]
  },
  {
   "cell_type": "code",
   "execution_count": 13,
   "metadata": {},
   "outputs": [],
   "source": [
    "def text_to_lz78(encoded):\n",
    "  decompressed = decompress_lz78(encoded)\n",
    "  original_text = binary_to_text(decompressed)\n",
    "  return original_text"
   ]
  },
  {
   "cell_type": "code",
   "execution_count": 14,
   "metadata": {},
   "outputs": [],
   "source": [
    "encoded = lz78_to_text(text)"
   ]
  },
  {
   "cell_type": "code",
   "execution_count": 15,
   "metadata": {},
   "outputs": [],
   "source": [
    "decoded = text_to_lz78(encoded)"
   ]
  },
  {
   "cell_type": "code",
   "execution_count": 16,
   "metadata": {},
   "outputs": [
    {
     "data": {
      "text/plain": [
       "True"
      ]
     },
     "execution_count": 16,
     "metadata": {},
     "output_type": "execute_result"
    }
   ],
   "source": [
    "text == decoded"
   ]
  },
  {
   "cell_type": "code",
   "execution_count": 17,
   "metadata": {},
   "outputs": [
    {
     "data": {
      "text/plain": [
       "-0.23775986053606446"
      ]
     },
     "execution_count": 17,
     "metadata": {},
     "output_type": "execute_result"
    }
   ],
   "source": [
    "taux_compression(text, encoded)"
   ]
  }
 ],
 "metadata": {
  "kernelspec": {
   "display_name": "Python 3",
   "language": "python",
   "name": "python3"
  },
  "language_info": {
   "codemirror_mode": {
    "name": "ipython",
    "version": 3
   },
   "file_extension": ".py",
   "mimetype": "text/x-python",
   "name": "python",
   "nbconvert_exporter": "python",
   "pygments_lexer": "ipython3",
   "version": "3.10.12"
  }
 },
 "nbformat": 4,
 "nbformat_minor": 2
}

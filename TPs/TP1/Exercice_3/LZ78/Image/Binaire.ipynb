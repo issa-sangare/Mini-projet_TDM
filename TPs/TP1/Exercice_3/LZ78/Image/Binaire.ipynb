{
 "cells": [
  {
   "cell_type": "code",
   "execution_count": 130,
   "metadata": {},
   "outputs": [],
   "source": [
    "import numpy as np\n",
    "from PIL import Image"
   ]
  },
  {
   "cell_type": "code",
   "execution_count": 131,
   "metadata": {},
   "outputs": [],
   "source": [
    "data = \"HHHHHHCCCCCCCAAAASSSSSFMMMMMMMMMEEIIIOP\"\n",
    "data1 = \"1000001001000000111001101101101011000010111001001110100001000000111000001101000011011110110111001100101001011000010000001101100011010010110101101100101001000000111100101101111011101010111001000100000011011000110000101110000011101000110111101110000001000000110111101110010001000000110010001100101011100110110101101110100011011110111000000100000011000110110111101101101011100000111010101110100011001010111001000101100001000000110001101100001011011100\"\n",
    "data2 = \"11010000001011100111\"\n",
    "data3 = \"00101111110100011000\"\n",
    "original_data = 'LICENCE IRM A LA FST'\n",
    "path = '../../random_binary_image.png'\n",
    "img = np.array(Image.open(path))\n",
    "\n",
    "with open(\"../../Textes/file2.txt\", 'r') as fichier:\n",
    "  text = fichier.read()"
   ]
  },
  {
   "cell_type": "code",
   "execution_count": 132,
   "metadata": {},
   "outputs": [],
   "source": [
    "def compress_lz78(data):\n",
    "  dictionary = {}\n",
    "  encoded_data = []\n",
    "  current_phrase = \"\"\n",
    "  \n",
    "  for char in data:\n",
    "    current_phrase += char\n",
    "    if current_phrase not in dictionary:\n",
    "      if len(current_phrase) == 1:\n",
    "        encoded_data.append((0, char))\n",
    "      else:\n",
    "        encoded_data.append((dictionary[current_phrase[:-1]], char))\n",
    "    \n",
    "      dictionary[current_phrase] = len(dictionary) + 1\n",
    "      current_phrase = \"\"\n",
    "    \n",
    "  if current_phrase:\n",
    "    encoded_data.append((dictionary[current_phrase], \"\"))\n",
    "    \n",
    "  return encoded_data"
   ]
  },
  {
   "cell_type": "code",
   "execution_count": 133,
   "metadata": {},
   "outputs": [],
   "source": [
    "def decompress_lz78(compressed_data):\n",
    "    dictionary = {0: ''}\n",
    "    decoded_data = ''\n",
    "    \n",
    "    for index, char in compressed_data:\n",
    "        if index in dictionary:\n",
    "            phrase = dictionary[index] + char\n",
    "        else:\n",
    "            phrase = dictionary[index - 1] + char\n",
    "        \n",
    "        decoded_data += phrase\n",
    "        dictionary[len(dictionary)] = phrase\n",
    "    \n",
    "    return decoded_data"
   ]
  },
  {
   "cell_type": "code",
   "execution_count": 134,
   "metadata": {},
   "outputs": [],
   "source": [
    "compressed = compress_lz78(data1)"
   ]
  },
  {
   "cell_type": "code",
   "execution_count": 135,
   "metadata": {},
   "outputs": [
    {
     "data": {
      "text/plain": [
       "True"
      ]
     },
     "execution_count": 135,
     "metadata": {},
     "output_type": "execute_result"
    }
   ],
   "source": [
    "data1 == decompress_lz78(compressed)"
   ]
  },
  {
   "cell_type": "code",
   "execution_count": 136,
   "metadata": {},
   "outputs": [],
   "source": [
    "def taux_compression(data, compressed_data):\n",
    "    occurences = []\n",
    "    \n",
    "    for i, _ in compressed_data:\n",
    "      occurences.append(i)\n",
    "      \n",
    "    maxi = max(occurences)\n",
    "    bit_max = int(np.log2(maxi)) + 1\n",
    "    taux = 1 - (len(compressed_data) * (8 + bit_max) / (len(data) * 8))\n",
    "    return taux"
   ]
  },
  {
   "cell_type": "code",
   "execution_count": 137,
   "metadata": {},
   "outputs": [],
   "source": [
    "def vecteur_colonne(matrice):\n",
    "    shape = matrice.shape\n",
    "    vecteur = np.ravel(matrice, order = 'F')\n",
    "    return np.array(vecteur), shape"
   ]
  },
  {
   "cell_type": "code",
   "execution_count": 138,
   "metadata": {},
   "outputs": [],
   "source": [
    "def inverse_vecteur_colonne(vecteur, shape):\n",
    "    mat = np.array(vecteur).reshape((shape[0], shape[1]))\n",
    "    return mat.T"
   ]
  },
  {
   "cell_type": "code",
   "execution_count": 139,
   "metadata": {},
   "outputs": [],
   "source": [
    "vect, shape = vecteur_colonne(img)"
   ]
  },
  {
   "cell_type": "code",
   "execution_count": 140,
   "metadata": {},
   "outputs": [
    {
     "data": {
      "text/plain": [
       "True"
      ]
     },
     "execution_count": 140,
     "metadata": {},
     "output_type": "execute_result"
    }
   ],
   "source": [
    "(img == inverse_vecteur_colonne(vect, shape)).all()"
   ]
  },
  {
   "cell_type": "code",
   "execution_count": 141,
   "metadata": {},
   "outputs": [],
   "source": [
    "def vecteur_to_binary(vecteur):\n",
    "    if isinstance(vecteur, np.ndarray):\n",
    "        # Si le vecteur est un tableau NumPy, on le convertit d'abord en une liste de booléens\n",
    "        vecteur = vecteur.tolist()\n",
    "    # Convertir chaque booléen en 0 ou 1\n",
    "    binary_sequence = ''.join('1' if valeur else '0' for valeur in vecteur)\n",
    "    return binary_sequence"
   ]
  },
  {
   "cell_type": "code",
   "execution_count": 142,
   "metadata": {},
   "outputs": [],
   "source": [
    "def binary_to_vecteur(binary_sequence):\n",
    "    # Convertir la séquence binaire en une liste de booléens\n",
    "    vecteur = [True if bit == '1' else False for bit in binary_sequence]\n",
    "    return np.array(vecteur)"
   ]
  },
  {
   "cell_type": "code",
   "execution_count": 143,
   "metadata": {},
   "outputs": [],
   "source": [
    "vect1 = vecteur_to_binary(vect)"
   ]
  },
  {
   "cell_type": "code",
   "execution_count": 144,
   "metadata": {},
   "outputs": [
    {
     "data": {
      "text/plain": [
       "True"
      ]
     },
     "execution_count": 144,
     "metadata": {},
     "output_type": "execute_result"
    }
   ],
   "source": [
    "(vect == binary_to_vecteur(vect1)).all()"
   ]
  },
  {
   "cell_type": "code",
   "execution_count": 145,
   "metadata": {},
   "outputs": [],
   "source": [
    "def image_to_lz78(image):\n",
    "  data, shape = vecteur_ligne(image)\n",
    "  binary_sequence = vecteur_to_binary(data)\n",
    "  print(len(binary_sequence))\n",
    "  encoded_text = compress_lz78(binary_sequence)\n",
    "  return encoded_text, shape"
   ]
  },
  {
   "cell_type": "code",
   "execution_count": 146,
   "metadata": {},
   "outputs": [],
   "source": [
    "def lz78_to_image(encoded, shape):\n",
    "    decompressed = decompress_lz78(encoded)\n",
    "    print(len(decompressed))\n",
    "    original_vector = binary_to_vecteur(decompressed)\n",
    "    original_image = inverse_vecteur_ligne(original_vector, shape)\n",
    "    return original_image"
   ]
  },
  {
   "cell_type": "code",
   "execution_count": 147,
   "metadata": {},
   "outputs": [
    {
     "ename": "NameError",
     "evalue": "name 'vecteur_ligne' is not defined",
     "output_type": "error",
     "traceback": [
      "\u001b[0;31m---------------------------------------------------------------------------\u001b[0m",
      "\u001b[0;31mNameError\u001b[0m                                 Traceback (most recent call last)",
      "Cell \u001b[0;32mIn[147], line 1\u001b[0m\n\u001b[0;32m----> 1\u001b[0m encoded, shape \u001b[38;5;241m=\u001b[39m \u001b[43mimage_to_lz78\u001b[49m\u001b[43m(\u001b[49m\u001b[43mimg\u001b[49m\u001b[43m)\u001b[49m\n",
      "Cell \u001b[0;32mIn[145], line 2\u001b[0m, in \u001b[0;36mimage_to_lz78\u001b[0;34m(image)\u001b[0m\n\u001b[1;32m      1\u001b[0m \u001b[38;5;28;01mdef\u001b[39;00m \u001b[38;5;21mimage_to_lz78\u001b[39m(image):\n\u001b[0;32m----> 2\u001b[0m   data, shape \u001b[38;5;241m=\u001b[39m \u001b[43mvecteur_ligne\u001b[49m(image)\n\u001b[1;32m      3\u001b[0m   binary_sequence \u001b[38;5;241m=\u001b[39m vecteur_to_binary(data)\n\u001b[1;32m      4\u001b[0m   \u001b[38;5;28mprint\u001b[39m(\u001b[38;5;28mlen\u001b[39m(binary_sequence))\n",
      "\u001b[0;31mNameError\u001b[0m: name 'vecteur_ligne' is not defined"
     ]
    }
   ],
   "source": [
    "encoded, shape = image_to_lz78(img)"
   ]
  },
  {
   "cell_type": "code",
   "execution_count": null,
   "metadata": {},
   "outputs": [
    {
     "name": "stdout",
     "output_type": "stream",
     "text": [
      "62500\n"
     ]
    }
   ],
   "source": [
    "decoded = lz78_to_image(encoded, shape)"
   ]
  },
  {
   "cell_type": "code",
   "execution_count": null,
   "metadata": {},
   "outputs": [
    {
     "data": {
      "text/plain": [
       "-5259.0"
      ]
     },
     "execution_count": 82,
     "metadata": {},
     "output_type": "execute_result"
    }
   ],
   "source": [
    "taux_compression(vecteur_to_binary(img)[0], encoded)"
   ]
  }
 ],
 "metadata": {
  "kernelspec": {
   "display_name": "Python 3",
   "language": "python",
   "name": "python3"
  },
  "language_info": {
   "codemirror_mode": {
    "name": "ipython",
    "version": 3
   },
   "file_extension": ".py",
   "mimetype": "text/x-python",
   "name": "python",
   "nbconvert_exporter": "python",
   "pygments_lexer": "ipython3",
   "version": "3.10.12"
  }
 },
 "nbformat": 4,
 "nbformat_minor": 2
}

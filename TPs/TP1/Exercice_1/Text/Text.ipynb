{
 "cells": [
  {
   "cell_type": "markdown",
   "metadata": {},
   "source": [
    "# $Série$ $n°1:$ $compression$ $par$ $RLE$ $et$ $Huffman$"
   ]
  },
  {
   "cell_type": "markdown",
   "metadata": {},
   "source": [
    "## <u>Exercice 1</u>: Compression par codage $RLE$"
   ]
  },
  {
   "cell_type": "code",
   "execution_count": 118,
   "metadata": {},
   "outputs": [],
   "source": [
    "import numpy as np"
   ]
  },
  {
   "cell_type": "code",
   "execution_count": 119,
   "metadata": {},
   "outputs": [],
   "source": [
    "data1 = \"HHHHHHCCCCCCCAAAASSSSSFMMMMMMMMMEEIIIOP\"\n",
    "data2 = \"1000001001000000111001101101101011000010111001001110100001000000111000001101000011011110110111001100101001011000010000001101100011010010110101101100101001000000111100101101111011101010111001000100000011011000110000101110000011101000110111101110000001000000110111101110010001000000110010001100101011100110110101101110100011011110111000000100000011000110110111101101101011100000111010101110100011001010111001000101100001000000110001101100001011011100\"\n",
    "data3 = \"11010000001011100111\"\n",
    "data4 = \"00101111110100011000\"\n",
    "data5 = \"0100001001000000111001101101101011000010111001001110100001000000111000001101000011011110110111001100101001011000010000001101100011010010110101101100101001000000111100101101111011101010111001000100000011011000110000101110000011101000110111101110000001000000110111101110010001000000110010001100101011100110110101101110100011011110111000000100000011000110110111101101101011100000111010101110100011001010111001000101100001000000110001101100001011011100\"\n",
    "path1 = '../../../Media Files/Textes/file1.txt'\n",
    "path2 = \"file2.txt\"\n",
    "\n",
    "with open(path1, 'r') as fichier:\n",
    "  text = fichier.read()"
   ]
  },
  {
   "cell_type": "markdown",
   "metadata": {},
   "source": [
    "### (1). Retourne la suite des tuples, $(symbol$ $et$ $occur)$ d’une suite de symboles passée en argument ; où $symbol$, $occur$ font référence respectivement à un nouveau symbole trouvé dans la source et sa fréquence d’occurrence."
   ]
  },
  {
   "cell_type": "code",
   "execution_count": 120,
   "metadata": {},
   "outputs": [],
   "source": [
    "def sym_occ(data):\n",
    "    if isinstance(data, list):\n",
    "        data += [str(i) for i in data]\n",
    "    encoded_data = []\n",
    "    \n",
    "    for char in data:\n",
    "        if not encoded_data:\n",
    "            encoded_data.append((char, 1))\n",
    "        else:\n",
    "            last = encoded_data[-1]\n",
    "            if last[0] == char:\n",
    "                encoded_data[-1] = (last[0], last[1] + 1)\n",
    "            else:\n",
    "                encoded_data.append((char, 1))\n",
    "                \n",
    "    return encoded_data"
   ]
  },
  {
   "cell_type": "markdown",
   "metadata": {},
   "source": [
    "### (2). Évalue le code $RLE$ de la suite de symboles initiale."
   ]
  },
  {
   "cell_type": "code",
   "execution_count": 121,
   "metadata": {},
   "outputs": [],
   "source": [
    "def encoding_RLE(data):\n",
    "    encoded_data = sym_occ(data)\n",
    "    code = []\n",
    "    \n",
    "    if encoded_data[0][0] == '1':  # Check if code is not empty before accessing its elements\n",
    "        code.append('0')\n",
    "        \n",
    "    for _, (_, j) in enumerate(encoded_data):\n",
    "        courant = str(j)\n",
    "        code.append(courant)\n",
    "        \n",
    "    return code"
   ]
  },
  {
   "cell_type": "markdown",
   "metadata": {},
   "source": [
    "### (3). Calcule le taux de compression."
   ]
  },
  {
   "cell_type": "code",
   "execution_count": 122,
   "metadata": {},
   "outputs": [],
   "source": [
    "def compression_ratio(data, compressed_data):\n",
    "    occurences = []\n",
    "    \n",
    "    for i in compressed_data:\n",
    "        occurences.append(int(i))\n",
    "        \n",
    "    maxi = max(occurences)\n",
    "    bit_max = int(np.log2(maxi)) + 1\n",
    "    taux = 1 - ((len(compressed_data) * bit_max) / len(data))\n",
    "    return taux"
   ]
  },
  {
   "cell_type": "code",
   "execution_count": 123,
   "metadata": {},
   "outputs": [],
   "source": [
    "def decoding_RLE(code):\n",
    "    # Vérifier si la séquence de codage commence par '0' ou '1'\n",
    "    if code[0] == '0':\n",
    "        start_with_zero = True\n",
    "    else:\n",
    "        start_with_zero = False\n",
    "    \n",
    "    if start_with_zero:\n",
    "        code = code[1:]\n",
    "    \n",
    "    # Initialiser une liste pour stocker les données décodées\n",
    "    decoded_data = ''\n",
    "    \n",
    "    # Initialiser la valeur pour la séquence alternée\n",
    "    alternate_value = '1' if start_with_zero else '0'\n",
    "    \n",
    "    # Itérer sur les éléments de code pour déterminer le nombre de répétitions et reconstruire les données originales\n",
    "    for i in range(len(code)):\n",
    "        count = int(code[i])\n",
    "        decoded_data += alternate_value * count\n",
    "        alternate_value = '0' if alternate_value == '1' else '1'  # Alterner entre '0' et '1'\n",
    "    \n",
    "    return decoded_data"
   ]
  },
  {
   "cell_type": "code",
   "execution_count": 124,
   "metadata": {},
   "outputs": [],
   "source": [
    "def text_to_binary(text):\n",
    "    # Convertir le texte en bytes en utilisant l'encodage Python par défaut (UTF-8)\n",
    "    encoded_text = text.encode()\n",
    "    \n",
    "    # Convertir chaque byte en sa représentation binaire\n",
    "    binary_sequence = ''.join(format(byte, '08b') for byte in encoded_text)\n",
    "    \n",
    "    return binary_sequence"
   ]
  },
  {
   "cell_type": "code",
   "execution_count": 125,
   "metadata": {},
   "outputs": [],
   "source": [
    "def binary_to_text(binary_sequence):\n",
    "    # Diviser la séquence binaire en octets de 8 bits\n",
    "    bytes_list = [binary_sequence[i:i+8] for i in range(0, len(binary_sequence), 8)]\n",
    "    \n",
    "    # Convertir chaque octet en caractère en utilisant l'encodage UTF-8\n",
    "    decoded_text = bytes(int(byte, 2) for byte in bytes_list).decode('utf-8', errors='replace').rstrip('\\x00')\n",
    "    \n",
    "    return decoded_text"
   ]
  },
  {
   "cell_type": "code",
   "execution_count": 126,
   "metadata": {},
   "outputs": [],
   "source": [
    "binary = text_to_binary(text)"
   ]
  },
  {
   "cell_type": "code",
   "execution_count": 127,
   "metadata": {},
   "outputs": [
    {
     "data": {
      "text/plain": [
       "'01010011010011110101'"
      ]
     },
     "execution_count": 127,
     "metadata": {},
     "output_type": "execute_result"
    }
   ],
   "source": [
    "binary[0:20]"
   ]
  },
  {
   "cell_type": "code",
   "execution_count": 128,
   "metadata": {},
   "outputs": [
    {
     "data": {
      "text/plain": [
       "True"
      ]
     },
     "execution_count": 128,
     "metadata": {},
     "output_type": "execute_result"
    }
   ],
   "source": [
    "text == binary_to_text(binary)"
   ]
  },
  {
   "cell_type": "code",
   "execution_count": 129,
   "metadata": {},
   "outputs": [
    {
     "data": {
      "text/plain": [
       "'SOURATE 1\\nAL-FATIHA '"
      ]
     },
     "execution_count": 129,
     "metadata": {},
     "output_type": "execute_result"
    }
   ],
   "source": [
    "text[0:20]"
   ]
  },
  {
   "cell_type": "code",
   "execution_count": 130,
   "metadata": {},
   "outputs": [
    {
     "data": {
      "text/plain": [
       "'SOURATE 1\\nAL-FATIHA '"
      ]
     },
     "execution_count": 130,
     "metadata": {},
     "output_type": "execute_result"
    }
   ],
   "source": [
    "binary_to_text(binary)[0:20]"
   ]
  },
  {
   "cell_type": "code",
   "execution_count": 131,
   "metadata": {},
   "outputs": [],
   "source": [
    "def text_encoding_RLE(path):\n",
    "  with open(path, 'r') as file:\n",
    "    text = file.read()\n",
    "  \n",
    "  binary = text_to_binary(text)\n",
    "  binary = encoding_RLE(binary)\n",
    "  return binary"
   ]
  },
  {
   "cell_type": "code",
   "execution_count": 132,
   "metadata": {},
   "outputs": [],
   "source": [
    "def text_decoding_RLE(encoded, path):\n",
    "  binary = decoding_RLE(encoded)\n",
    "  print(binary[0:100])\n",
    "  text = binary_to_text(binary)\n",
    "  \n",
    "  with open(path, 'w') as file:\n",
    "    file.write(text)"
   ]
  },
  {
   "cell_type": "code",
   "execution_count": 133,
   "metadata": {},
   "outputs": [],
   "source": [
    "rle_code = text_encoding_RLE(path1)"
   ]
  },
  {
   "cell_type": "code",
   "execution_count": 134,
   "metadata": {},
   "outputs": [
    {
     "name": "stdout",
     "output_type": "stream",
     "text": [
      "['1', '1', '1', '1', '2', '2', '1', '1', '2', '4', '1', '1', '1', '1', '1', '1', '1', '1', '1', '1', '1', '1', '2', '1', '2', '1', '5', '1', '1', '1', '1', '1', '1', '1', '3', '1', '3', '1', '1', '1', '2', '1', '7', '2', '3', '1', '4', '1', '1', '1', '2', '1', '5', '1', '1', '1', '2', '2', '4', '1', '1', '2', '1', '1', '1', '1', '3', '2', '2', '1', '5', '1', '1', '1', '1', '1', '1', '1', '3', '1', '2', '1', '2', '1', '1', '1', '2', '1', '4', '1', '5', '1', '2', '1', '7', '1', '1', '1', '4', '1']\n"
     ]
    }
   ],
   "source": [
    "print(rle_code[0:100])"
   ]
  },
  {
   "cell_type": "code",
   "execution_count": 135,
   "metadata": {},
   "outputs": [
    {
     "name": "stdout",
     "output_type": "stream",
     "text": [
      "0101001101001111010101010101001001000001010101000100010100100000001100010000101001000001010011000010\n"
     ]
    }
   ],
   "source": [
    "print(binary[0:100])"
   ]
  },
  {
   "cell_type": "code",
   "execution_count": 136,
   "metadata": {},
   "outputs": [
    {
     "name": "stdout",
     "output_type": "stream",
     "text": [
      "0101001101001111010101010101001001000001010101000100010100100000001100010000101001000001010011000010\n"
     ]
    }
   ],
   "source": [
    "text_decoding_RLE(rle_code, path2)"
   ]
  },
  {
   "cell_type": "code",
   "execution_count": 137,
   "metadata": {},
   "outputs": [
    {
     "data": {
      "text/plain": [
       "-16.11215515362824"
      ]
     },
     "execution_count": 137,
     "metadata": {},
     "output_type": "execute_result"
    }
   ],
   "source": [
    "compression_ratio(text, rle_code)"
   ]
  },
  {
   "cell_type": "code",
   "execution_count": 138,
   "metadata": {},
   "outputs": [
    {
     "name": "stdout",
     "output_type": "stream",
     "text": [
      "L'égalité entre les deux textes est: True\n"
     ]
    }
   ],
   "source": [
    "def equalT(path_text_original, path_text_traitee):\n",
    "  \n",
    "  with open(path_text_original, 'r') as fichier1:\n",
    "    text_original = fichier1.read()\n",
    "  \n",
    "  with open(path_text_traitee, 'r') as fichier2:\n",
    "    text_traitee = fichier2.read()\n",
    "  \n",
    "  return text_original == text_traitee\n",
    "\n",
    "equal = equalT(path1, path2)\n",
    "print(f\"L'égalité entre les deux textes est: {equal}\")"
   ]
  }
 ],
 "metadata": {
  "kernelspec": {
   "display_name": "Python 3",
   "language": "python",
   "name": "python3"
  },
  "language_info": {
   "codemirror_mode": {
    "name": "ipython",
    "version": 3
   },
   "file_extension": ".py",
   "mimetype": "text/x-python",
   "name": "python",
   "nbconvert_exporter": "python",
   "pygments_lexer": "ipython3",
   "version": "3.10.12"
  }
 },
 "nbformat": 4,
 "nbformat_minor": 2
}
